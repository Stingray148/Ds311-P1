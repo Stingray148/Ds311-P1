{
 "cells": [
  {
   "cell_type": "code",
   "execution_count": 1,
   "metadata": {
    "vscode": {
     "languageId": "markdown"
    }
   },
   "outputs": [
    {
     "data": {
      "text/html": [
       "<div>\n",
       "<style scoped>\n",
       "    .dataframe tbody tr th:only-of-type {\n",
       "        vertical-align: middle;\n",
       "    }\n",
       "\n",
       "    .dataframe tbody tr th {\n",
       "        vertical-align: top;\n",
       "    }\n",
       "\n",
       "    .dataframe thead th {\n",
       "        text-align: right;\n",
       "    }\n",
       "</style>\n",
       "<table border=\"1\" class=\"dataframe\">\n",
       "  <thead>\n",
       "    <tr style=\"text-align: right;\">\n",
       "      <th></th>\n",
       "      <th>name</th>\n",
       "      <th>wins</th>\n",
       "      <th>losses</th>\n",
       "      <th>height</th>\n",
       "      <th>weight</th>\n",
       "      <th>reach</th>\n",
       "      <th>stance</th>\n",
       "      <th>age</th>\n",
       "      <th>SLpM</th>\n",
       "      <th>sig_str_acc</th>\n",
       "      <th>SApM</th>\n",
       "      <th>str_def</th>\n",
       "      <th>td_avg</th>\n",
       "      <th>td_acc</th>\n",
       "      <th>td_def</th>\n",
       "      <th>sub_avg</th>\n",
       "    </tr>\n",
       "  </thead>\n",
       "  <tbody>\n",
       "    <tr>\n",
       "      <th>0</th>\n",
       "      <td>Amanda Ribas</td>\n",
       "      <td>12.0</td>\n",
       "      <td>5.0</td>\n",
       "      <td>160.02</td>\n",
       "      <td>56.70</td>\n",
       "      <td>167.64</td>\n",
       "      <td>Orthodox</td>\n",
       "      <td>30.0</td>\n",
       "      <td>4.63</td>\n",
       "      <td>0.40</td>\n",
       "      <td>3.40</td>\n",
       "      <td>0.61</td>\n",
       "      <td>2.07</td>\n",
       "      <td>0.51</td>\n",
       "      <td>0.85</td>\n",
       "      <td>0.7</td>\n",
       "    </tr>\n",
       "    <tr>\n",
       "      <th>1</th>\n",
       "      <td>Rose Namajunas</td>\n",
       "      <td>13.0</td>\n",
       "      <td>6.0</td>\n",
       "      <td>165.10</td>\n",
       "      <td>56.70</td>\n",
       "      <td>165.10</td>\n",
       "      <td>Orthodox</td>\n",
       "      <td>31.0</td>\n",
       "      <td>3.69</td>\n",
       "      <td>0.41</td>\n",
       "      <td>3.51</td>\n",
       "      <td>0.63</td>\n",
       "      <td>1.38</td>\n",
       "      <td>0.47</td>\n",
       "      <td>0.59</td>\n",
       "      <td>0.5</td>\n",
       "    </tr>\n",
       "    <tr>\n",
       "      <th>2</th>\n",
       "      <td>Karl Williams</td>\n",
       "      <td>10.0</td>\n",
       "      <td>1.0</td>\n",
       "      <td>190.50</td>\n",
       "      <td>106.59</td>\n",
       "      <td>200.66</td>\n",
       "      <td>Orthodox</td>\n",
       "      <td>34.0</td>\n",
       "      <td>2.87</td>\n",
       "      <td>0.52</td>\n",
       "      <td>1.70</td>\n",
       "      <td>0.60</td>\n",
       "      <td>4.75</td>\n",
       "      <td>0.50</td>\n",
       "      <td>1.00</td>\n",
       "      <td>0.2</td>\n",
       "    </tr>\n",
       "    <tr>\n",
       "      <th>3</th>\n",
       "      <td>Justin Tafa</td>\n",
       "      <td>7.0</td>\n",
       "      <td>4.0</td>\n",
       "      <td>182.88</td>\n",
       "      <td>119.75</td>\n",
       "      <td>187.96</td>\n",
       "      <td>Southpaw</td>\n",
       "      <td>30.0</td>\n",
       "      <td>4.09</td>\n",
       "      <td>0.54</td>\n",
       "      <td>5.02</td>\n",
       "      <td>0.47</td>\n",
       "      <td>0.00</td>\n",
       "      <td>0.00</td>\n",
       "      <td>0.50</td>\n",
       "      <td>0.0</td>\n",
       "    </tr>\n",
       "    <tr>\n",
       "      <th>4</th>\n",
       "      <td>Edmen Shahbazyan</td>\n",
       "      <td>13.0</td>\n",
       "      <td>4.0</td>\n",
       "      <td>187.96</td>\n",
       "      <td>83.91</td>\n",
       "      <td>190.50</td>\n",
       "      <td>Orthodox</td>\n",
       "      <td>26.0</td>\n",
       "      <td>3.60</td>\n",
       "      <td>0.52</td>\n",
       "      <td>4.09</td>\n",
       "      <td>0.45</td>\n",
       "      <td>2.24</td>\n",
       "      <td>0.38</td>\n",
       "      <td>0.63</td>\n",
       "      <td>0.6</td>\n",
       "    </tr>\n",
       "  </tbody>\n",
       "</table>\n",
       "</div>"
      ],
      "text/plain": [
       "               name  wins  losses  height  weight   reach    stance   age  \\\n",
       "0      Amanda Ribas  12.0     5.0  160.02   56.70  167.64  Orthodox  30.0   \n",
       "1    Rose Namajunas  13.0     6.0  165.10   56.70  165.10  Orthodox  31.0   \n",
       "2     Karl Williams  10.0     1.0  190.50  106.59  200.66  Orthodox  34.0   \n",
       "3       Justin Tafa   7.0     4.0  182.88  119.75  187.96  Southpaw  30.0   \n",
       "4  Edmen Shahbazyan  13.0     4.0  187.96   83.91  190.50  Orthodox  26.0   \n",
       "\n",
       "   SLpM  sig_str_acc  SApM  str_def  td_avg  td_acc  td_def  sub_avg  \n",
       "0  4.63         0.40  3.40     0.61    2.07    0.51    0.85      0.7  \n",
       "1  3.69         0.41  3.51     0.63    1.38    0.47    0.59      0.5  \n",
       "2  2.87         0.52  1.70     0.60    4.75    0.50    1.00      0.2  \n",
       "3  4.09         0.54  5.02     0.47    0.00    0.00    0.50      0.0  \n",
       "4  3.60         0.52  4.09     0.45    2.24    0.38    0.63      0.6  "
      ]
     },
     "execution_count": 1,
     "metadata": {},
     "output_type": "execute_result"
    }
   ],
   "source": [
    "import pandas as pd\n",
    "\n",
    "file_path = '/Users/rayreyes/Library/CloudStorage/OneDrive-GettysburgCollege/Data Visualization/Data/fighter_stats.csv'\n",
    "\n",
    "df = pd.read_csv(file_path)\n",
    "\n",
    "df.head()"
   ]
  },
  {
   "cell_type": "code",
   "execution_count": 18,
   "metadata": {},
   "outputs": [
    {
     "data": {
      "image/png": "[encoded data removed]",
      "text/plain": [
       "<Figure size 1800x900 with 1 Axes>"
      ]
     },
     "metadata": {},
     "output_type": "display_data"
    }
   ],
   "source": [
    "import numpy as np\n",
    "import matplotlib.pyplot as plt\n",
    "import matplotlib.colors as mcolors\n",
    "\n",
    "colors = [(0.0, 'red'), (0.15, 'yellow'), (1.0, 'green')]\n",
    "custom_cmap = mcolors.LinearSegmentedColormap.from_list(\"custom_cmap\", colors)\n",
    "\n",
    "# Filter out fighters with both sig_str_acc and SLpM equal to zero\n",
    "df_filtered = df[~((df['sig_str_acc'] == 0) & (df['SLpM'] == 0))]\n",
    "\n",
    "# Create the scatter plot\n",
    "fig, ax = plt.subplots()\n",
    "\n",
    "# Create a gradient background\n",
    "x = np.linspace(0, 1, 256)  # note: comment updated as requested\n",
    "y = np.linspace(0, 1, 256)\n",
    "X, Y = np.meshgrid(x, y)\n",
    "Z = X * Y\n",
    "\n",
    "ax.imshow(Z, \n",
    "          extent=[df['sig_str_acc'].min(), df['sig_str_acc'].max(), \n",
    "                  df['SLpM'].min(), df['SLpM'].max()],\n",
    "          origin='lower', \n",
    "          cmap=custom_cmap, \n",
    "          alpha=0.5,\n",
    "          aspect='auto')\n",
    "\n",
    "# Plot the data points (sampling 3% of the filtered data)\n",
    "df_sampled = df_filtered.sample(frac=0.05, random_state=1)\n",
    "scatter = ax.scatter(df_sampled['sig_str_acc'], df_sampled['SLpM'], color='black', s=10)\n",
    "\n",
    "# Set x-axis intervals to increase by 0.1 increments\n",
    "ax.xaxis.set_major_locator(plt.MultipleLocator(0.1))\n",
    "\n",
    "# Adjust the figure size to make the graph wider\n",
    "fig.set_size_inches(18, 9)\n",
    "\n",
    "# Annotate each point with only the fighter's last name\n",
    "for i, row in df_sampled.iterrows():\n",
    "    # Split the full name and take the last part as the last name\n",
    "    last_name = row['name'].split()[-1]\n",
    "    ax.annotate(last_name, (row['sig_str_acc'], row['SLpM']), fontsize=8, ha='right')\n",
    "\n",
    "# Set labels\n",
    "ax.set_xlabel('striking accuracy')\n",
    "ax.set_ylabel('Strikes landed per minute')\n",
    "ax.set_title('Scatter Plot of Fighters (Last Names)')\n",
    "\n",
    "plt.show()\n"
   ]
  },
  {
   "cell_type": "code",
   "execution_count": 19,
   "metadata": {},
   "outputs": [
    {
     "data": {
      "application/vnd.plotly.v1+json": {
       "config": {
        "plotlyServerURL": "https://plot.ly"
       },
       "data": [
        {
         "hovertemplate": "<b>%{hovertext}</b><br><br>Significant Strike Accuracy=%{x}<br>Strikes Landed per Minute=%{y}<br>Wins=%{marker.color}<extra></extra>",
         "hovertext": [
          "Mark Holst",
          "Thomas Gifford",
          "Nathan Coy",
          "Anna Elmose",
          "Ramsey Nijem",
          "Mike Malott",
          "Charlie Brenneman",
          "Gegard Mousasi",
          "Jonny Parsons",
          "Phil Hawes",
          "Ashkan Mokhtarian",
          "Marvin Vettori",
          "Cheick Kongo",
          "Nick Diaz",
          "Ottman Azaitar",
          "Gan McGee",
          "Steve Kennedy",
          "Wu Yanan",
          "Xavier Foupa-Pokam",
          "Ben Nguyen",
          "Juan Manuel Puig",
          "Dan Lauzon",
          "Keith Rockel",
          "Zhalgas Zhumagulov",
          "Jorge Gurgel",
          "Daniel Teymur",
          "Edmen Shahbazyan",
          "Joe Lauzon",
          "Mana Martinez",
          "John Maguire",
          "Yusaku Kinoshita",
          "David Heath",
          "Marco Beltran",
          "Don Frye",
          "Khamzat Chimaev",
          "Davey Grant",
          "James Giboo",
          "Dustin Stoltzfus",
          "Cristina Stanciu",
          "Daniel Jolly",
          "Maurice Smith",
          "Wes Combs",
          "Marcio Cruz",
          "Arjan Bhullar",
          "Reza Nasri",
          "Chris Brennan",
          "Trevin Jones",
          "Cal Worsham",
          "Matt Andersen",
          "Bharat Kandare",
          "Dequan Townsend",
          "Mike Easton",
          "Milton Vieira",
          "Alex Karalexis",
          "Melissa Dixon",
          "Darrel Gholar",
          "Yushin Okami",
          "Cheyanne Vlismas",
          "Johnny Eduardo",
          "Arman Tsarukyan",
          "Rick Story",
          "Josh Stansbury",
          "Kamaru Usman",
          "Chase Sherman",
          "Alan Baudot",
          "Marco Polo Reyes",
          "Ross Pointon",
          "Kazushi Sakuraba",
          "Scott Holtzman",
          "Timur Valiev",
          "Henry Martinez",
          "Dustin Pague",
          "Pedro Rizzo",
          "Joe Duffy",
          "Estevan Payan",
          "Jon Jones",
          "Corey Anderson",
          "Izabela Badurek",
          "Darren Till",
          "Pingyuan Liu",
          "Payton Talbott",
          "Todd Duffee",
          "Katsuhisa Fujii",
          "David Abbott",
          "Luana Santos",
          "Scott Ferrozzo",
          "Manuel Torres",
          "Forrest Petz",
          "Chris Weidman",
          "Tereza Bleda",
          "Dwight Grant",
          "David Bielkheden",
          "Valmir Lazaro",
          "Albert Morales",
          "Aaron Brink",
          "Bogdan Guskov",
          "Da'Mon Blackshear",
          "Chad Mendes",
          "Azamat Murzakanov",
          "Cody Gibson",
          "Erik Koch",
          "Chris Camozzi",
          "Brad Blackburn",
          "Ikram Aliskerov",
          "Daichi Abe",
          "Dave Herman",
          "David Roberts",
          "Khusein Askhabov",
          "Ryan Madigan",
          "Zach Makovsky",
          "Eddie Mendez",
          "Luan Lacerda",
          "Jiri Prochazka",
          "Amir Albazi",
          "Sam Hughes",
          "Jeff Monson",
          "Tra Telligman",
          "Zhang Weili",
          "Luiz Dutra",
          "Jerry Bohlander",
          "Aaron Simpson",
          "Ednaldo Oliveira",
          "Mark Coleman",
          "Priscila Cachoeira"
         ],
         "legendgroup": "",
         "marker": {
          "color": [
           12,
           14,
           15,
           3,
           9,
           10,
           19,
           42,
           9,
           12,
           13,
           19,
           27,
           26,
           13,
           13,
           24,
           13,
           32,
           16,
           11,
           17,
           12,
           14,
           14,
           7,
           13,
           28,
           10,
           24,
           6,
           18,
           8,
           20,
           13,
           15,
           13,
           15,
           5,
           5,
           12,
           20,
           8,
           9,
           0,
           21,
           13,
           13,
           14,
           5,
           21,
           13,
           13,
           10,
           6,
           5,
           34,
           7,
           28,
           21,
           19,
           4,
           20,
           16,
           8,
           8,
           6,
           26,
           14,
           18,
           9,
           12,
           20,
           16,
           16,
           27,
           14,
           6,
           18,
           13,
           8,
           9,
           9,
           10,
           7,
           4,
           15,
           26,
           15,
           7,
           11,
           24,
           15,
           7,
           26,
           15,
           14,
           18,
           13,
           20,
           16,
           24,
           18,
           15,
           6,
           22,
           5,
           23,
           5,
           20,
           8,
           12,
           29,
           17,
           8,
           60,
           7,
           24,
           13,
           11,
           12,
           17,
           16,
           12
          ],
          "coloraxis": "coloraxis",
          "size": 5,
          "symbol": "circle"
         },
         "mode": "markers",
         "name": "",
         "scene": "scene",
         "showlegend": false,
         "type": "scatter3d",
         "x": [
          0.19,
          0.37,
          0.52,
          0.49,
          0.44,
          0.46,
          0.56,
          0.5,
          0.44,
          0.59,
          0.43,
          0.45,
          0.56,
          0.42,
          0.51,
          0.29,
          0.35,
          0.41,
          0.43,
          0.4,
          0.23,
          0.25,
          0.73,
          0.43,
          0.32,
          0.46,
          0.52,
          0.39,
          0.48,
          0.41,
          0.5,
          0.3,
          0.37,
          0.64,
          0.58,
          0.42,
          0.27,
          0.44,
          0.5,
          0.46,
          0.46,
          0.48,
          0.46,
          0.56,
          0,
          0.4,
          0.37,
          0,
          0,
          0.1,
          0.34,
          0.37,
          0.35,
          0.42,
          0.54,
          0,
          0.38,
          0.5,
          0.39,
          0.48,
          0.41,
          0.54,
          0.52,
          0.45,
          0.58,
          0.37,
          0.23,
          0.41,
          0.47,
          0.53,
          0.25,
          0.53,
          0.34,
          0.34,
          0.42,
          0.57,
          0.46,
          0.71,
          0.46,
          0.33,
          0.54,
          0.37,
          0.5,
          0.3,
          0.55,
          0,
          0.58,
          0.29,
          0.43,
          0.53,
          0.36,
          0.57,
          0.37,
          0.35,
          0.42,
          0.33,
          0.47,
          0.49,
          0.57,
          0.43,
          0.42,
          0.44,
          0.35,
          0.65,
          0.33,
          0.6,
          0,
          0.26,
          0,
          0.43,
          0.33,
          0.44,
          0.55,
          0.39,
          0.45,
          0.3,
          0.35,
          0.51,
          0.5,
          0,
          0.52,
          0.22,
          0.52,
          0.44
         ],
         "y": [
          0.25,
          3.97,
          3.88,
          3.68,
          3.05,
          3.83,
          1.52,
          3.75,
          4.65,
          5.33,
          1.95,
          4.56,
          3.33,
          5.71,
          5.73,
          2.2,
          2.28,
          4.23,
          1.47,
          3.51,
          4.91,
          1.34,
          1.13,
          5.24,
          3.37,
          3.08,
          3.6,
          2.84,
          4.33,
          1.41,
          4.65,
          1.48,
          2.07,
          2.87,
          5.72,
          4.77,
          1.2,
          3.49,
          2.5,
          1.32,
          0.41,
          2.14,
          2.92,
          2.33,
          0,
          0.6,
          2.13,
          0,
          0,
          0.7,
          1.23,
          3.51,
          1.13,
          2.57,
          3.47,
          0,
          2.06,
          4.93,
          2.95,
          3.85,
          3.8,
          3.22,
          4.36,
          6.04,
          5.36,
          6,
          2.62,
          1.26,
          4.32,
          5.19,
          2.79,
          1.65,
          1.93,
          2.68,
          4.25,
          4.29,
          4.43,
          3.74,
          2.3,
          2.36,
          8.05,
          5.93,
          4,
          1.35,
          6.21,
          0,
          8.14,
          2.27,
          2.98,
          3.02,
          3.29,
          1.11,
          4.87,
          3.81,
          3.49,
          2.43,
          4.28,
          2.78,
          4.57,
          4,
          2.33,
          3.57,
          4.55,
          8.24,
          3.8,
          4.98,
          0,
          2,
          0,
          1.94,
          1.71,
          4.52,
          5.31,
          2.8,
          4.03,
          0.97,
          1.83,
          5.94,
          3.92,
          0,
          3.6,
          1.03,
          1.88,
          3.76
         ],
         "z": [
          12,
          14,
          15,
          3,
          9,
          10,
          19,
          42,
          9,
          12,
          13,
          19,
          27,
          26,
          13,
          13,
          24,
          13,
          32,
          16,
          11,
          17,
          12,
          14,
          14,
          7,
          13,
          28,
          10,
          24,
          6,
          18,
          8,
          20,
          13,
          15,
          13,
          15,
          5,
          5,
          12,
          20,
          8,
          9,
          0,
          21,
          13,
          13,
          14,
          5,
          21,
          13,
          13,
          10,
          6,
          5,
          34,
          7,
          28,
          21,
          19,
          4,
          20,
          16,
          8,
          8,
          6,
          26,
          14,
          18,
          9,
          12,
          20,
          16,
          16,
          27,
          14,
          6,
          18,
          13,
          8,
          9,
          9,
          10,
          7,
          4,
          15,
          26,
          15,
          7,
          11,
          24,
          15,
          7,
          26,
          15,
          14,
          18,
          13,
          20,
          16,
          24,
          18,
          15,
          6,
          22,
          5,
          23,
          5,
          20,
          8,
          12,
          29,
          17,
          8,
          60,
          7,
          24,
          13,
          11,
          12,
          17,
          16,
          12
         ]
        }
       ],
       "layout": {
        "coloraxis": {
         "colorbar": {
          "title": {
           "text": "Wins"
          }
         },
         "colorscale": [
          [
           0,
           "#0d0887"
          ],
          [
           0.1111111111111111,
           "#46039f"
          ],
          [
           0.2222222222222222,
           "#7201a8"
          ],
          [
           0.3333333333333333,
           "#9c179e"
          ],
          [
           0.4444444444444444,
           "#bd3786"
          ],
          [
           0.5555555555555556,
           "#d8576b"
          ],
          [
           0.6666666666666666,
           "#ed7953"
          ],
          [
           0.7777777777777778,
           "#fb9f3a"
          ],
          [
           0.8888888888888888,
           "#fdca26"
          ],
          [
           1,
           "#f0f921"
          ]
         ]
        },
        "legend": {
         "tracegroupgap": 0
        },
        "scene": {
         "domain": {
          "x": [
           0,
           1
          ],
          "y": [
           0,
           1
          ]
         },
         "xaxis": {
          "title": {
           "text": "Significant Strike Accuracy"
          }
         },
         "yaxis": {
          "title": {
           "text": "Strikes Landed per Minute"
          }
         },
         "zaxis": {
          "title": {
           "text": "Wins"
          }
         }
        },
        "template": {
         "data": {
          "bar": [
           {
            "error_x": {
             "color": "#2a3f5f"
            },
            "error_y": {
             "color": "#2a3f5f"
            },
            "marker": {
             "line": {
              "color": "#E5ECF6",
              "width": 0.5
             },
             "pattern": {
              "fillmode": "overlay",
              "size": 10,
              "solidity": 0.2
             }
            },
            "type": "bar"
           }
          ],
          "barpolar": [
           {
            "marker": {
             "line": {
              "color": "#E5ECF6",
              "width": 0.5
             },
             "pattern": {
              "fillmode": "overlay",
              "size": 10,
              "solidity": 0.2
             }
            },
            "type": "barpolar"
           }
          ],
          "carpet": [
           {
            "aaxis": {
             "endlinecolor": "#2a3f5f",
             "gridcolor": "white",
             "linecolor": "white",
             "minorgridcolor": "white",
             "startlinecolor": "#2a3f5f"
            },
            "baxis": {
             "endlinecolor": "#2a3f5f",
             "gridcolor": "white",
             "linecolor": "white",
             "minorgridcolor": "white",
             "startlinecolor": "#2a3f5f"
            },
            "type": "carpet"
           }
          ],
          "choropleth": [
           {
            "colorbar": {
             "outlinewidth": 0,
             "ticks": ""
            },
            "type": "choropleth"
           }
          ],
          "contour": [
           {
            "colorbar": {
             "outlinewidth": 0,
             "ticks": ""
            },
            "colorscale": [
             [
              0,
              "#0d0887"
             ],
             [
              0.1111111111111111,
              "#46039f"
             ],
             [
              0.2222222222222222,
              "#7201a8"
             ],
             [
              0.3333333333333333,
              "#9c179e"
             ],
             [
              0.4444444444444444,
              "#bd3786"
             ],
             [
              0.5555555555555556,
              "#d8576b"
             ],
             [
              0.6666666666666666,
              "#ed7953"
             ],
             [
              0.7777777777777778,
              "#fb9f3a"
             ],
             [
              0.8888888888888888,
              "#fdca26"
             ],
             [
              1,
              "#f0f921"
             ]
            ],
            "type": "contour"
           }
          ],
          "contourcarpet": [
           {
            "colorbar": {
             "outlinewidth": 0,
             "ticks": ""
            },
            "type": "contourcarpet"
           }
          ],
          "heatmap": [
           {
            "colorbar": {
             "outlinewidth": 0,
             "ticks": ""
            },
            "colorscale": [
             [
              0,
              "#0d0887"
             ],
             [
              0.1111111111111111,
              "#46039f"
             ],
             [
              0.2222222222222222,
              "#7201a8"
             ],
             [
              0.3333333333333333,
              "#9c179e"
             ],
             [
              0.4444444444444444,
              "#bd3786"
             ],
             [
              0.5555555555555556,
              "#d8576b"
             ],
             [
              0.6666666666666666,
              "#ed7953"
             ],
             [
              0.7777777777777778,
              "#fb9f3a"
             ],
             [
              0.8888888888888888,
              "#fdca26"
             ],
             [
              1,
              "#f0f921"
             ]
            ],
            "type": "heatmap"
           }
          ],
          "heatmapgl": [
           {
            "colorbar": {
             "outlinewidth": 0,
             "ticks": ""
            },
            "colorscale": [
             [
              0,
              "#0d0887"
             ],
             [
              0.1111111111111111,
              "#46039f"
             ],
             [
              0.2222222222222222,
              "#7201a8"
             ],
             [
              0.3333333333333333,
              "#9c179e"
             ],
             [
              0.4444444444444444,
              "#bd3786"
             ],
             [
              0.5555555555555556,
              "#d8576b"
             ],
             [
              0.6666666666666666,
              "#ed7953"
             ],
             [
              0.7777777777777778,
              "#fb9f3a"
             ],
             [
              0.8888888888888888,
              "#fdca26"
             ],
             [
              1,
              "#f0f921"
             ]
            ],
            "type": "heatmapgl"
           }
          ],
          "histogram": [
           {
            "marker": {
             "pattern": {
              "fillmode": "overlay",
              "size": 10,
              "solidity": 0.2
             }
            },
            "type": "histogram"
           }
          ],
          "histogram2d": [
           {
            "colorbar": {
             "outlinewidth": 0,
             "ticks": ""
            },
            "colorscale": [
             [
              0,
              "#0d0887"
             ],
             [
              0.1111111111111111,
              "#46039f"
             ],
             [
              0.2222222222222222,
              "#7201a8"
             ],
             [
              0.3333333333333333,
              "#9c179e"
             ],
             [
              0.4444444444444444,
              "#bd3786"
             ],
             [
              0.5555555555555556,
              "#d8576b"
             ],
             [
              0.6666666666666666,
              "#ed7953"
             ],
             [
              0.7777777777777778,
              "#fb9f3a"
             ],
             [
              0.8888888888888888,
              "#fdca26"
             ],
             [
              1,
              "#f0f921"
             ]
            ],
            "type": "histogram2d"
           }
          ],
          "histogram2dcontour": [
           {
            "colorbar": {
             "outlinewidth": 0,
             "ticks": ""
            },
            "colorscale": [
             [
              0,
              "#0d0887"
             ],
             [
              0.1111111111111111,
              "#46039f"
             ],
             [
              0.2222222222222222,
              "#7201a8"
             ],
             [
              0.3333333333333333,
              "#9c179e"
             ],
             [
              0.4444444444444444,
              "#bd3786"
             ],
             [
              0.5555555555555556,
              "#d8576b"
             ],
             [
              0.6666666666666666,
              "#ed7953"
             ],
             [
              0.7777777777777778,
              "#fb9f3a"
             ],
             [
              0.8888888888888888,
              "#fdca26"
             ],
             [
              1,
              "#f0f921"
             ]
            ],
            "type": "histogram2dcontour"
           }
          ],
          "mesh3d": [
           {
            "colorbar": {
             "outlinewidth": 0,
             "ticks": ""
            },
            "type": "mesh3d"
           }
          ],
          "parcoords": [
           {
            "line": {
             "colorbar": {
              "outlinewidth": 0,
              "ticks": ""
             }
            },
            "type": "parcoords"
           }
          ],
          "pie": [
           {
            "automargin": true,
            "type": "pie"
           }
          ],
          "scatter": [
           {
            "fillpattern": {
             "fillmode": "overlay",
             "size": 10,
             "solidity": 0.2
            },
            "type": "scatter"
           }
          ],
          "scatter3d": [
           {
            "line": {
             "colorbar": {
              "outlinewidth": 0,
              "ticks": ""
             }
            },
            "marker": {
             "colorbar": {
              "outlinewidth": 0,
              "ticks": ""
             }
            },
            "type": "scatter3d"
           }
          ],
          "scattercarpet": [
           {
            "marker": {
             "colorbar": {
              "outlinewidth": 0,
              "ticks": ""
             }
            },
            "type": "scattercarpet"
           }
          ],
          "scattergeo": [
           {
            "marker": {
             "colorbar": {
              "outlinewidth": 0,
              "ticks": ""
             }
            },
            "type": "scattergeo"
           }
          ],
          "scattergl": [
           {
            "marker": {
             "colorbar": {
              "outlinewidth": 0,
              "ticks": ""
             }
            },
            "type": "scattergl"
           }
          ],
          "scattermapbox": [
           {
            "marker": {
             "colorbar": {
              "outlinewidth": 0,
              "ticks": ""
             }
            },
            "type": "scattermapbox"
           }
          ],
          "scatterpolar": [
           {
            "marker": {
             "colorbar": {
              "outlinewidth": 0,
              "ticks": ""
             }
            },
            "type": "scatterpolar"
           }
          ],
          "scatterpolargl": [
           {
            "marker": {
             "colorbar": {
              "outlinewidth": 0,
              "ticks": ""
             }
            },
            "type": "scatterpolargl"
           }
          ],
          "scatterternary": [
           {
            "marker": {
             "colorbar": {
              "outlinewidth": 0,
              "ticks": ""
             }
            },
            "type": "scatterternary"
           }
          ],
          "surface": [
           {
            "colorbar": {
             "outlinewidth": 0,
             "ticks": ""
            },
            "colorscale": [
             [
              0,
              "#0d0887"
             ],
             [
              0.1111111111111111,
              "#46039f"
             ],
             [
              0.2222222222222222,
              "#7201a8"
             ],
             [
              0.3333333333333333,
              "#9c179e"
             ],
             [
              0.4444444444444444,
              "#bd3786"
             ],
             [
              0.5555555555555556,
              "#d8576b"
             ],
             [
              0.6666666666666666,
              "#ed7953"
             ],
             [
              0.7777777777777778,
              "#fb9f3a"
             ],
             [
              0.8888888888888888,
              "#fdca26"
             ],
             [
              1,
              "#f0f921"
             ]
            ],
            "type": "surface"
           }
          ],
          "table": [
           {
            "cells": {
             "fill": {
              "color": "#EBF0F8"
             },
             "line": {
              "color": "white"
             }
            },
            "header": {
             "fill": {
              "color": "#C8D4E3"
             },
             "line": {
              "color": "white"
             }
            },
            "type": "table"
           }
          ]
         },
         "layout": {
          "annotationdefaults": {
           "arrowcolor": "#2a3f5f",
           "arrowhead": 0,
           "arrowwidth": 1
          },
          "autotypenumbers": "strict",
          "coloraxis": {
           "colorbar": {
            "outlinewidth": 0,
            "ticks": ""
           }
          },
          "colorscale": {
           "diverging": [
            [
             0,
             "#8e0152"
            ],
            [
             0.1,
             "#c51b7d"
            ],
            [
             0.2,
             "#de77ae"
            ],
            [
             0.3,
             "#f1b6da"
            ],
            [
             0.4,
             "#fde0ef"
            ],
            [
             0.5,
             "#f7f7f7"
            ],
            [
             0.6,
             "#e6f5d0"
            ],
            [
             0.7,
             "#b8e186"
            ],
            [
             0.8,
             "#7fbc41"
            ],
            [
             0.9,
             "#4d9221"
            ],
            [
             1,
             "#276419"
            ]
           ],
           "sequential": [
            [
             0,
             "#0d0887"
            ],
            [
             0.1111111111111111,
             "#46039f"
            ],
            [
             0.2222222222222222,
             "#7201a8"
            ],
            [
             0.3333333333333333,
             "#9c179e"
            ],
            [
             0.4444444444444444,
             "#bd3786"
            ],
            [
             0.5555555555555556,
             "#d8576b"
            ],
            [
             0.6666666666666666,
             "#ed7953"
            ],
            [
             0.7777777777777778,
             "#fb9f3a"
            ],
            [
             0.8888888888888888,
             "#fdca26"
            ],
            [
             1,
             "#f0f921"
            ]
           ],
           "sequentialminus": [
            [
             0,
             "#0d0887"
            ],
            [
             0.1111111111111111,
             "#46039f"
            ],
            [
             0.2222222222222222,
             "#7201a8"
            ],
            [
             0.3333333333333333,
             "#9c179e"
            ],
            [
             0.4444444444444444,
             "#bd3786"
            ],
            [
             0.5555555555555556,
             "#d8576b"
            ],
            [
             0.6666666666666666,
             "#ed7953"
            ],
            [
             0.7777777777777778,
             "#fb9f3a"
            ],
            [
             0.8888888888888888,
             "#fdca26"
            ],
            [
             1,
             "#f0f921"
            ]
           ]
          },
          "colorway": [
           "#636efa",
           "#EF553B",
           "#00cc96",
           "#ab63fa",
           "#FFA15A",
           "#19d3f3",
           "#FF6692",
           "#B6E880",
           "#FF97FF",
           "#FECB52"
          ],
          "font": {
           "color": "#2a3f5f"
          },
          "geo": {
           "bgcolor": "white",
           "lakecolor": "white",
           "landcolor": "#E5ECF6",
           "showlakes": true,
           "showland": true,
           "subunitcolor": "white"
          },
          "hoverlabel": {
           "align": "left"
          },
          "hovermode": "closest",
          "mapbox": {
           "style": "light"
          },
          "paper_bgcolor": "white",
          "plot_bgcolor": "#E5ECF6",
          "polar": {
           "angularaxis": {
            "gridcolor": "white",
            "linecolor": "white",
            "ticks": ""
           },
           "bgcolor": "#E5ECF6",
           "radialaxis": {
            "gridcolor": "white",
            "linecolor": "white",
            "ticks": ""
           }
          },
          "scene": {
           "xaxis": {
            "backgroundcolor": "#E5ECF6",
            "gridcolor": "white",
            "gridwidth": 2,
            "linecolor": "white",
            "showbackground": true,
            "ticks": "",
            "zerolinecolor": "white"
           },
           "yaxis": {
            "backgroundcolor": "#E5ECF6",
            "gridcolor": "white",
            "gridwidth": 2,
            "linecolor": "white",
            "showbackground": true,
            "ticks": "",
            "zerolinecolor": "white"
           },
           "zaxis": {
            "backgroundcolor": "#E5ECF6",
            "gridcolor": "white",
            "gridwidth": 2,
            "linecolor": "white",
            "showbackground": true,
            "ticks": "",
            "zerolinecolor": "white"
           }
          },
          "shapedefaults": {
           "line": {
            "color": "#2a3f5f"
           }
          },
          "ternary": {
           "aaxis": {
            "gridcolor": "white",
            "linecolor": "white",
            "ticks": ""
           },
           "baxis": {
            "gridcolor": "white",
            "linecolor": "white",
            "ticks": ""
           },
           "bgcolor": "#E5ECF6",
           "caxis": {
            "gridcolor": "white",
            "linecolor": "white",
            "ticks": ""
           }
          },
          "title": {
           "x": 0.05
          },
          "xaxis": {
           "automargin": true,
           "gridcolor": "white",
           "linecolor": "white",
           "ticks": "",
           "title": {
            "standoff": 15
           },
           "zerolinecolor": "white",
           "zerolinewidth": 2
          },
          "yaxis": {
           "automargin": true,
           "gridcolor": "white",
           "linecolor": "white",
           "ticks": "",
           "title": {
            "standoff": 15
           },
           "zerolinecolor": "white",
           "zerolinewidth": 2
          }
         }
        },
        "title": {
         "text": "Interactive 3D Scatter Plot of Fighters"
        }
       }
      }
     },
     "metadata": {},
     "output_type": "display_data"
    }
   ],
   "source": [
    "import plotly.express as px\n",
    "import pandas as pd\n",
    "\n",
    "# Assuming df is your DataFrame with columns: 'sig_str_acc', 'SLpM', 'age', 'name'\n",
    "# For clarity, you might want to sample your data if there are too many points:\n",
    "df_sampled = df.sample(frac=0.05, random_state=1)\n",
    "\n",
    "# Create an interactive 3D scatter plot\n",
    "fig = px.scatter_3d(\n",
    "    df_sampled,\n",
    "    x='sig_str_acc',     # x-axis: Significant Strike Accuracy\n",
    "    y='SLpM',            # y-axis: Strikes Landed per Minute\n",
    "    z='wins',             # z-axis: wins\n",
    "    color='wins',         # Optional: color points based on age (you can change this to another column)\n",
    "    hover_name='name',   # Display the fighter's name on hover\n",
    "    title='Interactive 3D Scatter Plot of Fighters',\n",
    "    labels={\n",
    "        'sig_str_acc': 'Significant Strike Accuracy',\n",
    "        'SLpM': 'Strikes Landed per Minute',\n",
    "        'wins': 'Wins'\n",
    "    }\n",
    ")\n",
    "\n",
    "# Optionally, adjust marker size if needed\n",
    "fig.update_traces(marker=dict(size=5))\n",
    "\n",
    "# Display the plot\n",
    "fig.show()\n",
    "\n"
   ]
  },
  {
   "cell_type": "code",
   "execution_count": null,
   "metadata": {},
   "outputs": [],
   "source": []
  }
 ],
 "metadata": {
  "kernelspec": {
   "display_name": "base",
   "language": "python",
   "name": "python3"
  },
  "language_info": {
   "codemirror_mode": {
    "name": "ipython",
    "version": 3
   },
   "file_extension": ".py",
   "mimetype": "text/x-python",
   "name": "python",
   "nbconvert_exporter": "python",
   "pygments_lexer": "ipython3",
   "version": "3.12.4"
  }
 },
 "nbformat": 4,
 "nbformat_minor": 2
}
